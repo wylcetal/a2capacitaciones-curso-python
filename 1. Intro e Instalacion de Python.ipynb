{
 "cells": [
  {
   "cell_type": "markdown",
   "id": "94536c12-0dc9-4f08-b591-9fd667f9d977",
   "metadata": {},
   "source": [
    "# 1. Intro e Instalacción de Python"
   ]
  },
  {
   "cell_type": "code",
   "execution_count": 2,
   "id": "845dd08e-b7c5-474c-93fc-d1e75f17735f",
   "metadata": {},
   "outputs": [
    {
     "data": {
      "text/plain": [
       "16"
      ]
     },
     "execution_count": 2,
     "metadata": {},
     "output_type": "execute_result"
    }
   ],
   "source": [
    "8+8"
   ]
  },
  {
   "cell_type": "code",
   "execution_count": 3,
   "id": "df38a5e0-8394-4d3e-b690-c329b56b0aa0",
   "metadata": {
    "scrolled": true
   },
   "outputs": [
    {
     "data": {
      "text/plain": [
       "83"
      ]
     },
     "execution_count": 3,
     "metadata": {},
     "output_type": "execute_result"
    }
   ],
   "source": [
    "5+78"
   ]
  },
  {
   "cell_type": "code",
   "execution_count": 6,
   "id": "733c4e13-1ee7-4a30-acde-c6f74c882dbd",
   "metadata": {},
   "outputs": [
    {
     "data": {
      "text/plain": [
       "2864"
      ]
     },
     "execution_count": 6,
     "metadata": {},
     "output_type": "execute_result"
    }
   ],
   "source": [
    "56*51+8"
   ]
  },
  {
   "cell_type": "code",
   "execution_count": null,
   "id": "bd5b11a1-b8e8-4f31-8554-6a888d5292e3",
   "metadata": {},
   "outputs": [],
   "source": []
  }
 ],
 "metadata": {
  "kernelspec": {
   "display_name": "Python 3 (ipykernel)",
   "language": "python",
   "name": "python3"
  },
  "language_info": {
   "codemirror_mode": {
    "name": "ipython",
    "version": 3
   },
   "file_extension": ".py",
   "mimetype": "text/x-python",
   "name": "python",
   "nbconvert_exporter": "python",
   "pygments_lexer": "ipython3",
   "version": "3.11.5"
  },
  "widgets": {
   "application/vnd.jupyter.widget-state+json": {
    "state": {},
    "version_major": 2,
    "version_minor": 0
   }
  }
 },
 "nbformat": 4,
 "nbformat_minor": 5
}
